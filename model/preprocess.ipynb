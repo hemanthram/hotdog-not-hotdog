{
 "cells": [
  {
   "cell_type": "code",
   "execution_count": 60,
   "metadata": {},
   "outputs": [],
   "source": [
    "import cv2\n",
    "import os\n",
    "import matplotlib.pyplot as plt\n",
    "import numpy as np\n",
    "import h5py"
   ]
  },
  {
   "cell_type": "code",
   "execution_count": 4,
   "metadata": {},
   "outputs": [],
   "source": [
    "def show(img):\n",
    "    cv2.imshow('asds', img)\n",
    "    cv2.waitKey(0)\n",
    "    cv2.destroyAllWindows()"
   ]
  },
  {
   "cell_type": "code",
   "execution_count": 25,
   "metadata": {},
   "outputs": [],
   "source": [
    "size = 128\n",
    "c = 1\n",
    "for folder in os.listdir('../data/hotdog'):\n",
    "    for file in os.listdir('../data/hotdog/'+folder):\n",
    "        if(file == 'invalid'):\n",
    "            continue\n",
    "        img = cv2.imread('../data/hotdog/'+folder+'/'+file)\n",
    "        rimg = cv2.resize(img, (size, size)) \n",
    "        cv2.imwrite('./hotdog/'+str(c)+'.jpg', rimg)\n",
    "        c += 1"
   ]
  },
  {
   "cell_type": "code",
   "execution_count": 26,
   "metadata": {},
   "outputs": [],
   "source": [
    "c = 1\n",
    "for folder in os.listdir('../data/nothotdog'):\n",
    "    for file in os.listdir('../data/nothotdog/'+folder):\n",
    "        if(file == 'invalid'):\n",
    "            continue\n",
    "        img = cv2.imread('../data/nothotdog/'+folder+'/'+file)\n",
    "        rimg = cv2.resize(img, (size, size)) \n",
    "        cv2.imwrite('./nothotdog/'+str(c)+'.jpg', rimg)\n",
    "        c += 1"
   ]
  },
  {
   "cell_type": "code",
   "execution_count": 66,
   "metadata": {},
   "outputs": [],
   "source": [
    "def load_data():\n",
    "    np.random.seed(1)\n",
    "    hotdog = len(os.listdir('./hotdog'))\n",
    "    nothotdog = len(os.listdir('./nothotdog'))\n",
    "    datasetx = np.ndarray((hotdog+nothotdog, size, size, 3))\n",
    "    datasety = np.ndarray((hotdog+nothotdog, 1))\n",
    "    i = 0\n",
    "    for img in os.listdir('./hotdog'):\n",
    "        mat = cv2.imread('./hotdog/'+img)\n",
    "        datasetx[i] = mat\n",
    "        datasety[i] = 1\n",
    "        i+=1\n",
    "    for img in os.listdir('./nothotdog'):\n",
    "        mat = cv2.imread('./nothotdog/'+img)\n",
    "        datasetx[i] = mat\n",
    "        datasety[i] = 0\n",
    "        i += 1\n",
    "    return datasetx, datasety"
   ]
  }
 ],
 "metadata": {
  "kernelspec": {
   "display_name": "Python 3.6.7 64-bit",
   "language": "python",
   "name": "python36764bitb4078c42e20c457aad221add00386046"
  },
  "language_info": {
   "codemirror_mode": {
    "name": "ipython",
    "version": 3
   },
   "file_extension": ".py",
   "mimetype": "text/x-python",
   "name": "python",
   "nbconvert_exporter": "python",
   "pygments_lexer": "ipython3",
   "version": "3.6.7"
  }
 },
 "nbformat": 4,
 "nbformat_minor": 2
}
